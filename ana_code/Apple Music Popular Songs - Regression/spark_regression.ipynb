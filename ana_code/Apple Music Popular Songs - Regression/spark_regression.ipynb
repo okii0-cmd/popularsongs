{
 "cells": [
  {
   "cell_type": "code",
   "execution_count": null,
   "metadata": {},
   "outputs": [],
   "source": [
    "from pyspark.sql import SparkSession\n",
    "import pandas as pd"
   ]
  },
  {
   "cell_type": "code",
   "execution_count": null,
   "metadata": {},
   "outputs": [],
   "source": [
    "# Create a Spark session\n",
    "spark = SparkSession.builder.appName(\"LinearRegression\").getOrCreate()\n",
    "\n",
    "# Load your data into a DataFrame using pandas, then spark\n",
    "df_pandas = pd.read_csv(\"kworb_popularity.csv\")\n",
    "df = spark.createDataFrame(df_pandas)\n",
    "\n",
    "# Select the columns you want to calculate the correlation for\n",
    "selected_cols = [\"danceability\", \"energy\", \"loudness\", \"speechiness\", \"acousticness\", \"instrumentalness\", \"liveness\", \"valence\", \"tempo\", \"duration_ms\", \"popularity\"]"
   ]
  },
  {
   "cell_type": "code",
   "execution_count": 5,
   "metadata": {},
   "outputs": [],
   "source": [
    "# Assemble the selected columns into a feature vector\n",
    "from pyspark.ml.feature import VectorAssembler\n",
    "assembler = VectorAssembler(inputCols=selected_cols[:-1], outputCol=\"features\")\n",
    "data_with_features = assembler.transform(df).select(\"features\", selected_cols[-1])\n",
    "\n",
    "# Split the data into training and test sets\n",
    "train_data, test_data = data_with_features.randomSplit([0.7, 0.3])\n",
    "\n",
    "# Create a LinearRegression object and fit the model on the training data\n",
    "from pyspark.ml.regression import LinearRegression\n",
    "lr = LinearRegression(labelCol=selected_cols[-1], featuresCol=\"features\", maxIter=10, regParam=0.3, elasticNetParam=0.8)\n",
    "model = lr.fit(train_data)\n",
    "\n",
    "# Evaluate the model on the test data\n",
    "predictions = model.transform(test_data)\n",
    "from pyspark.ml.evaluation import RegressionEvaluator\n",
    "evaluator = RegressionEvaluator(labelCol=selected_cols[-1], predictionCol=\"prediction\", metricName=\"rmse\")\n",
    "rmse = evaluator.evaluate(predictions)\n",
    "print(\"Root Mean Squared Error (RMSE) on test data = %g\" % rmse)\n",
    "\n",
    "# k-means clustering"
   ]
  }
 ],
 "metadata": {
  "kernelspec": {
   "display_name": "Python 3",
   "language": "python",
   "name": "python3"
  },
  "language_info": {
   "codemirror_mode": {
    "name": "ipython",
    "version": 3
   },
   "file_extension": ".py",
   "mimetype": "text/x-python",
   "name": "python",
   "nbconvert_exporter": "python",
   "pygments_lexer": "ipython3",
   "version": "3.11.3"
  },
  "orig_nbformat": 4
 },
 "nbformat": 4,
 "nbformat_minor": 2
}
